{
 "cells": [
  {
   "cell_type": "code",
   "execution_count": 1,
   "metadata": {},
   "outputs": [],
   "source": [
    "import pandas as pd\n",
    "df = pd.read_csv(\"bank-stocks-merged.txt\", sep='\\t', error_bad_lines=False)"
   ]
  },
  {
   "cell_type": "code",
   "execution_count": 2,
   "metadata": {},
   "outputs": [
    {
     "name": "stdout",
     "output_type": "stream",
     "text": [
      "['Date', 'Ticker', 'Open', 'High', 'Low', 'Close', 'Volume']\n"
     ]
    }
   ],
   "source": [
    "print list(df)"
   ]
  },
  {
   "cell_type": "code",
   "execution_count": 3,
   "metadata": {},
   "outputs": [
    {
     "data": {
      "text/html": [
       "<div>\n",
       "<style scoped>\n",
       "    .dataframe tbody tr th:only-of-type {\n",
       "        vertical-align: middle;\n",
       "    }\n",
       "\n",
       "    .dataframe tbody tr th {\n",
       "        vertical-align: top;\n",
       "    }\n",
       "\n",
       "    .dataframe thead th {\n",
       "        text-align: right;\n",
       "    }\n",
       "</style>\n",
       "<table border=\"1\" class=\"dataframe\">\n",
       "  <thead>\n",
       "    <tr style=\"text-align: right;\">\n",
       "      <th></th>\n",
       "      <th>Date</th>\n",
       "      <th>Ticker</th>\n",
       "      <th>Open</th>\n",
       "      <th>High</th>\n",
       "      <th>Low</th>\n",
       "      <th>Close</th>\n",
       "      <th>Volume</th>\n",
       "    </tr>\n",
       "  </thead>\n",
       "  <tbody>\n",
       "    <tr>\n",
       "      <th>0</th>\n",
       "      <td>1/2/1975</td>\n",
       "      <td>ABAN2</td>\n",
       "      <td>5.0000</td>\n",
       "      <td>5.2500</td>\n",
       "      <td>4.7500</td>\n",
       "      <td>5.0000</td>\n",
       "      <td>0.0</td>\n",
       "    </tr>\n",
       "    <tr>\n",
       "      <th>1</th>\n",
       "      <td>1/3/1975</td>\n",
       "      <td>ABAN2</td>\n",
       "      <td>5.0000</td>\n",
       "      <td>5.2500</td>\n",
       "      <td>4.7500</td>\n",
       "      <td>5.0000</td>\n",
       "      <td>0.0</td>\n",
       "    </tr>\n",
       "    <tr>\n",
       "      <th>2</th>\n",
       "      <td>1/6/1975</td>\n",
       "      <td>ABAN2</td>\n",
       "      <td>5.0000</td>\n",
       "      <td>5.2500</td>\n",
       "      <td>4.7500</td>\n",
       "      <td>5.0000</td>\n",
       "      <td>0.0</td>\n",
       "    </tr>\n",
       "    <tr>\n",
       "      <th>3</th>\n",
       "      <td>1/7/1975</td>\n",
       "      <td>ABAN2</td>\n",
       "      <td>5.0000</td>\n",
       "      <td>5.3125</td>\n",
       "      <td>4.8125</td>\n",
       "      <td>5.0625</td>\n",
       "      <td>0.0</td>\n",
       "    </tr>\n",
       "    <tr>\n",
       "      <th>4</th>\n",
       "      <td>1/8/1975</td>\n",
       "      <td>ABAN2</td>\n",
       "      <td>5.0625</td>\n",
       "      <td>5.3750</td>\n",
       "      <td>4.8750</td>\n",
       "      <td>5.1250</td>\n",
       "      <td>0.0</td>\n",
       "    </tr>\n",
       "  </tbody>\n",
       "</table>\n",
       "</div>"
      ],
      "text/plain": [
       "       Date Ticker    Open    High     Low   Close  Volume\n",
       "0  1/2/1975  ABAN2  5.0000  5.2500  4.7500  5.0000     0.0\n",
       "1  1/3/1975  ABAN2  5.0000  5.2500  4.7500  5.0000     0.0\n",
       "2  1/6/1975  ABAN2  5.0000  5.2500  4.7500  5.0000     0.0\n",
       "3  1/7/1975  ABAN2  5.0000  5.3125  4.8125  5.0625     0.0\n",
       "4  1/8/1975  ABAN2  5.0625  5.3750  4.8750  5.1250     0.0"
      ]
     },
     "execution_count": 3,
     "metadata": {},
     "output_type": "execute_result"
    }
   ],
   "source": [
    "df.head()"
   ]
  },
  {
   "cell_type": "code",
   "execution_count": 4,
   "metadata": {
    "scrolled": true
   },
   "outputs": [
    {
     "data": {
      "text/html": [
       "<div>\n",
       "<style scoped>\n",
       "    .dataframe tbody tr th:only-of-type {\n",
       "        vertical-align: middle;\n",
       "    }\n",
       "\n",
       "    .dataframe tbody tr th {\n",
       "        vertical-align: top;\n",
       "    }\n",
       "\n",
       "    .dataframe thead th {\n",
       "        text-align: right;\n",
       "    }\n",
       "</style>\n",
       "<table border=\"1\" class=\"dataframe\">\n",
       "  <thead>\n",
       "    <tr style=\"text-align: right;\">\n",
       "      <th></th>\n",
       "      <th>Open</th>\n",
       "      <th>High</th>\n",
       "      <th>Low</th>\n",
       "      <th>Close</th>\n",
       "      <th>Volume</th>\n",
       "    </tr>\n",
       "  </thead>\n",
       "  <tbody>\n",
       "    <tr>\n",
       "      <th>count</th>\n",
       "      <td>595509.000000</td>\n",
       "      <td>595509.000000</td>\n",
       "      <td>595509.000000</td>\n",
       "      <td>595509.000000</td>\n",
       "      <td>5.955090e+05</td>\n",
       "    </tr>\n",
       "    <tr>\n",
       "      <th>mean</th>\n",
       "      <td>52.437470</td>\n",
       "      <td>56.395352</td>\n",
       "      <td>52.222895</td>\n",
       "      <td>52.447311</td>\n",
       "      <td>3.328747e+03</td>\n",
       "    </tr>\n",
       "    <tr>\n",
       "      <th>std</th>\n",
       "      <td>335.071010</td>\n",
       "      <td>534.842218</td>\n",
       "      <td>334.763017</td>\n",
       "      <td>335.057378</td>\n",
       "      <td>8.777564e+04</td>\n",
       "    </tr>\n",
       "    <tr>\n",
       "      <th>min</th>\n",
       "      <td>0.010000</td>\n",
       "      <td>0.010000</td>\n",
       "      <td>0.010000</td>\n",
       "      <td>0.010000</td>\n",
       "      <td>0.000000e+00</td>\n",
       "    </tr>\n",
       "    <tr>\n",
       "      <th>25%</th>\n",
       "      <td>6.887594</td>\n",
       "      <td>7.000000</td>\n",
       "      <td>6.750000</td>\n",
       "      <td>6.889000</td>\n",
       "      <td>0.000000e+00</td>\n",
       "    </tr>\n",
       "    <tr>\n",
       "      <th>50%</th>\n",
       "      <td>13.870000</td>\n",
       "      <td>14.000000</td>\n",
       "      <td>13.700000</td>\n",
       "      <td>13.875000</td>\n",
       "      <td>1.600000e+01</td>\n",
       "    </tr>\n",
       "    <tr>\n",
       "      <th>75%</th>\n",
       "      <td>23.940000</td>\n",
       "      <td>24.140000</td>\n",
       "      <td>23.731257</td>\n",
       "      <td>23.950000</td>\n",
       "      <td>1.798524e+02</td>\n",
       "    </tr>\n",
       "    <tr>\n",
       "      <th>max</th>\n",
       "      <td>7500.000000</td>\n",
       "      <td>50000.000000</td>\n",
       "      <td>7500.000000</td>\n",
       "      <td>7500.000000</td>\n",
       "      <td>1.226600e+07</td>\n",
       "    </tr>\n",
       "  </tbody>\n",
       "</table>\n",
       "</div>"
      ],
      "text/plain": [
       "                Open           High            Low          Close  \\\n",
       "count  595509.000000  595509.000000  595509.000000  595509.000000   \n",
       "mean       52.437470      56.395352      52.222895      52.447311   \n",
       "std       335.071010     534.842218     334.763017     335.057378   \n",
       "min         0.010000       0.010000       0.010000       0.010000   \n",
       "25%         6.887594       7.000000       6.750000       6.889000   \n",
       "50%        13.870000      14.000000      13.700000      13.875000   \n",
       "75%        23.940000      24.140000      23.731257      23.950000   \n",
       "max      7500.000000   50000.000000    7500.000000    7500.000000   \n",
       "\n",
       "             Volume  \n",
       "count  5.955090e+05  \n",
       "mean   3.328747e+03  \n",
       "std    8.777564e+04  \n",
       "min    0.000000e+00  \n",
       "25%    0.000000e+00  \n",
       "50%    1.600000e+01  \n",
       "75%    1.798524e+02  \n",
       "max    1.226600e+07  "
      ]
     },
     "execution_count": 4,
     "metadata": {},
     "output_type": "execute_result"
    }
   ],
   "source": [
    "df.describe()"
   ]
  },
  {
   "cell_type": "markdown",
   "metadata": {},
   "source": [
    "Question 1: Describe the data (e.g., how many banks are in sample? how many banks have data that go back to 1975? how many banks appear in the sample after 2000? Etc.)"
   ]
  },
  {
   "cell_type": "code",
   "execution_count": 5,
   "metadata": {},
   "outputs": [
    {
     "name": "stdout",
     "output_type": "stream",
     "text": [
      "257 banks are in the sample\n"
     ]
    }
   ],
   "source": [
    "original = df['Ticker'].value_counts()   \n",
    "\n",
    "\n",
    "print len(original),'banks are in the sample'\n"
   ]
  },
  {
   "cell_type": "code",
   "execution_count": 6,
   "metadata": {},
   "outputs": [
    {
     "data": {
      "text/plain": [
       "Date      datetime64[ns]\n",
       "Ticker            object\n",
       "Open             float64\n",
       "High             float64\n",
       "Low              float64\n",
       "Close            float64\n",
       "Volume           float64\n",
       "dtype: object"
      ]
     },
     "execution_count": 6,
     "metadata": {},
     "output_type": "execute_result"
    }
   ],
   "source": [
    "df[\"Date\"] = pd.to_datetime(df[\"Date\"],format = \"%m/%d/%Y\") \n",
    "df.dtypes"
   ]
  },
  {
   "cell_type": "code",
   "execution_count": 7,
   "metadata": {},
   "outputs": [
    {
     "data": {
      "text/html": [
       "<div>\n",
       "<style scoped>\n",
       "    .dataframe tbody tr th:only-of-type {\n",
       "        vertical-align: middle;\n",
       "    }\n",
       "\n",
       "    .dataframe tbody tr th {\n",
       "        vertical-align: top;\n",
       "    }\n",
       "\n",
       "    .dataframe thead th {\n",
       "        text-align: right;\n",
       "    }\n",
       "</style>\n",
       "<table border=\"1\" class=\"dataframe\">\n",
       "  <thead>\n",
       "    <tr style=\"text-align: right;\">\n",
       "      <th></th>\n",
       "      <th>Date</th>\n",
       "      <th>Ticker</th>\n",
       "      <th>Open</th>\n",
       "      <th>High</th>\n",
       "      <th>Low</th>\n",
       "      <th>Close</th>\n",
       "      <th>Volume</th>\n",
       "    </tr>\n",
       "  </thead>\n",
       "  <tbody>\n",
       "    <tr>\n",
       "      <th>0</th>\n",
       "      <td>1975-01-02</td>\n",
       "      <td>ABAN2</td>\n",
       "      <td>5.000000</td>\n",
       "      <td>5.250000</td>\n",
       "      <td>4.750000</td>\n",
       "      <td>5.000000</td>\n",
       "      <td>0.0</td>\n",
       "    </tr>\n",
       "    <tr>\n",
       "      <th>188340</th>\n",
       "      <td>1975-01-02</td>\n",
       "      <td>BDET1</td>\n",
       "      <td>20.000000</td>\n",
       "      <td>23.750000</td>\n",
       "      <td>18.750000</td>\n",
       "      <td>21.250000</td>\n",
       "      <td>0.0</td>\n",
       "    </tr>\n",
       "    <tr>\n",
       "      <th>351072</th>\n",
       "      <td>1975-01-02</td>\n",
       "      <td>CAPB1</td>\n",
       "      <td>0.444444</td>\n",
       "      <td>0.444444</td>\n",
       "      <td>0.444444</td>\n",
       "      <td>0.444444</td>\n",
       "      <td>0.0</td>\n",
       "    </tr>\n",
       "    <tr>\n",
       "      <th>557417</th>\n",
       "      <td>1975-01-02</td>\n",
       "      <td>CTBC1</td>\n",
       "      <td>11.388889</td>\n",
       "      <td>11.666667</td>\n",
       "      <td>11.333333</td>\n",
       "      <td>11.500000</td>\n",
       "      <td>0.0</td>\n",
       "    </tr>\n",
       "    <tr>\n",
       "      <th>247053</th>\n",
       "      <td>1975-01-02</td>\n",
       "      <td>BOKC1</td>\n",
       "      <td>8.500000</td>\n",
       "      <td>9.000000</td>\n",
       "      <td>8.000000</td>\n",
       "      <td>8.500000</td>\n",
       "      <td>0.0</td>\n",
       "    </tr>\n",
       "  </tbody>\n",
       "</table>\n",
       "</div>"
      ],
      "text/plain": [
       "             Date Ticker       Open       High        Low      Close  Volume\n",
       "0      1975-01-02  ABAN2   5.000000   5.250000   4.750000   5.000000     0.0\n",
       "188340 1975-01-02  BDET1  20.000000  23.750000  18.750000  21.250000     0.0\n",
       "351072 1975-01-02  CAPB1   0.444444   0.444444   0.444444   0.444444     0.0\n",
       "557417 1975-01-02  CTBC1  11.388889  11.666667  11.333333  11.500000     0.0\n",
       "247053 1975-01-02  BOKC1   8.500000   9.000000   8.000000   8.500000     0.0"
      ]
     },
     "execution_count": 7,
     "metadata": {},
     "output_type": "execute_result"
    }
   ],
   "source": [
    "df_sort=df.sort_values(by='Date')\n",
    "df_sort.head()"
   ]
  },
  {
   "cell_type": "code",
   "execution_count": 8,
   "metadata": {},
   "outputs": [
    {
     "data": {
      "text/html": [
       "<div>\n",
       "<style scoped>\n",
       "    .dataframe tbody tr th:only-of-type {\n",
       "        vertical-align: middle;\n",
       "    }\n",
       "\n",
       "    .dataframe tbody tr th {\n",
       "        vertical-align: top;\n",
       "    }\n",
       "\n",
       "    .dataframe thead th {\n",
       "        text-align: right;\n",
       "    }\n",
       "</style>\n",
       "<table border=\"1\" class=\"dataframe\">\n",
       "  <thead>\n",
       "    <tr style=\"text-align: right;\">\n",
       "      <th></th>\n",
       "      <th>Date</th>\n",
       "      <th>Ticker</th>\n",
       "      <th>Open</th>\n",
       "      <th>High</th>\n",
       "      <th>Low</th>\n",
       "      <th>Close</th>\n",
       "      <th>Volume</th>\n",
       "    </tr>\n",
       "  </thead>\n",
       "  <tbody>\n",
       "    <tr>\n",
       "      <th>557665</th>\n",
       "      <td>1975-12-24</td>\n",
       "      <td>CTBC1</td>\n",
       "      <td>14.055556</td>\n",
       "      <td>14.222222</td>\n",
       "      <td>13.888889</td>\n",
       "      <td>14.055556</td>\n",
       "      <td>0.0</td>\n",
       "    </tr>\n",
       "    <tr>\n",
       "      <th>557666</th>\n",
       "      <td>1975-12-26</td>\n",
       "      <td>CTBC1</td>\n",
       "      <td>14.055556</td>\n",
       "      <td>14.222222</td>\n",
       "      <td>13.888889</td>\n",
       "      <td>14.055556</td>\n",
       "      <td>0.0</td>\n",
       "    </tr>\n",
       "    <tr>\n",
       "      <th>557667</th>\n",
       "      <td>1975-12-29</td>\n",
       "      <td>CTBC1</td>\n",
       "      <td>14.055556</td>\n",
       "      <td>14.333333</td>\n",
       "      <td>14.000000</td>\n",
       "      <td>14.166667</td>\n",
       "      <td>0.0</td>\n",
       "    </tr>\n",
       "    <tr>\n",
       "      <th>557668</th>\n",
       "      <td>1975-12-30</td>\n",
       "      <td>CTBC1</td>\n",
       "      <td>14.277778</td>\n",
       "      <td>14.611111</td>\n",
       "      <td>14.277778</td>\n",
       "      <td>14.444444</td>\n",
       "      <td>0.0</td>\n",
       "    </tr>\n",
       "    <tr>\n",
       "      <th>557669</th>\n",
       "      <td>1975-12-31</td>\n",
       "      <td>CTBC1</td>\n",
       "      <td>14.444444</td>\n",
       "      <td>14.777778</td>\n",
       "      <td>14.444444</td>\n",
       "      <td>14.611111</td>\n",
       "      <td>0.0</td>\n",
       "    </tr>\n",
       "  </tbody>\n",
       "</table>\n",
       "</div>"
      ],
      "text/plain": [
       "             Date Ticker       Open       High        Low      Close  Volume\n",
       "557665 1975-12-24  CTBC1  14.055556  14.222222  13.888889  14.055556     0.0\n",
       "557666 1975-12-26  CTBC1  14.055556  14.222222  13.888889  14.055556     0.0\n",
       "557667 1975-12-29  CTBC1  14.055556  14.333333  14.000000  14.166667     0.0\n",
       "557668 1975-12-30  CTBC1  14.277778  14.611111  14.277778  14.444444     0.0\n",
       "557669 1975-12-31  CTBC1  14.444444  14.777778  14.444444  14.611111     0.0"
      ]
     },
     "execution_count": 8,
     "metadata": {},
     "output_type": "execute_result"
    }
   ],
   "source": [
    "D1975=df.loc[df['Date']<'1976-01-01']\n",
    "D1975.tail()"
   ]
  },
  {
   "cell_type": "code",
   "execution_count": 9,
   "metadata": {},
   "outputs": [
    {
     "name": "stdout",
     "output_type": "stream",
     "text": [
      "24 banks have data that go back to 1975\n"
     ]
    }
   ],
   "source": [
    "profile_1975 = D1975['Ticker'].value_counts()\n",
    "\n",
    "print len(profile_1975),'banks have data that go back to 1975'\n"
   ]
  },
  {
   "cell_type": "code",
   "execution_count": 10,
   "metadata": {},
   "outputs": [
    {
     "data": {
      "text/html": [
       "<div>\n",
       "<style scoped>\n",
       "    .dataframe tbody tr th:only-of-type {\n",
       "        vertical-align: middle;\n",
       "    }\n",
       "\n",
       "    .dataframe tbody tr th {\n",
       "        vertical-align: top;\n",
       "    }\n",
       "\n",
       "    .dataframe thead th {\n",
       "        text-align: right;\n",
       "    }\n",
       "</style>\n",
       "<table border=\"1\" class=\"dataframe\">\n",
       "  <thead>\n",
       "    <tr style=\"text-align: right;\">\n",
       "      <th></th>\n",
       "      <th>Date</th>\n",
       "      <th>Ticker</th>\n",
       "      <th>Open</th>\n",
       "      <th>High</th>\n",
       "      <th>Low</th>\n",
       "      <th>Close</th>\n",
       "      <th>Volume</th>\n",
       "    </tr>\n",
       "  </thead>\n",
       "  <tbody>\n",
       "    <tr>\n",
       "      <th>4170</th>\n",
       "      <td>2000-01-03</td>\n",
       "      <td>ABCB</td>\n",
       "      <td>8.862454</td>\n",
       "      <td>8.913097</td>\n",
       "      <td>8.406671</td>\n",
       "      <td>8.710527</td>\n",
       "      <td>584.981849</td>\n",
       "    </tr>\n",
       "    <tr>\n",
       "      <th>4171</th>\n",
       "      <td>2000-01-04</td>\n",
       "      <td>ABCB</td>\n",
       "      <td>8.507956</td>\n",
       "      <td>8.609241</td>\n",
       "      <td>8.507956</td>\n",
       "      <td>8.609241</td>\n",
       "      <td>72.814196</td>\n",
       "    </tr>\n",
       "    <tr>\n",
       "      <th>4172</th>\n",
       "      <td>2000-01-05</td>\n",
       "      <td>ABCB</td>\n",
       "      <td>8.507956</td>\n",
       "      <td>8.609241</td>\n",
       "      <td>8.507956</td>\n",
       "      <td>8.609241</td>\n",
       "      <td>86.389725</td>\n",
       "    </tr>\n",
       "    <tr>\n",
       "      <th>4173</th>\n",
       "      <td>2000-01-06</td>\n",
       "      <td>ABCB</td>\n",
       "      <td>8.659884</td>\n",
       "      <td>8.913097</td>\n",
       "      <td>8.609241</td>\n",
       "      <td>8.609241</td>\n",
       "      <td>16.043806</td>\n",
       "    </tr>\n",
       "    <tr>\n",
       "      <th>4174</th>\n",
       "      <td>2000-01-07</td>\n",
       "      <td>ABCB</td>\n",
       "      <td>8.811812</td>\n",
       "      <td>8.913097</td>\n",
       "      <td>8.609241</td>\n",
       "      <td>8.710527</td>\n",
       "      <td>130.818726</td>\n",
       "    </tr>\n",
       "  </tbody>\n",
       "</table>\n",
       "</div>"
      ],
      "text/plain": [
       "           Date Ticker      Open      High       Low     Close      Volume\n",
       "4170 2000-01-03   ABCB  8.862454  8.913097  8.406671  8.710527  584.981849\n",
       "4171 2000-01-04   ABCB  8.507956  8.609241  8.507956  8.609241   72.814196\n",
       "4172 2000-01-05   ABCB  8.507956  8.609241  8.507956  8.609241   86.389725\n",
       "4173 2000-01-06   ABCB  8.659884  8.913097  8.609241  8.609241   16.043806\n",
       "4174 2000-01-07   ABCB  8.811812  8.913097  8.609241  8.710527  130.818726"
      ]
     },
     "execution_count": 10,
     "metadata": {},
     "output_type": "execute_result"
    }
   ],
   "source": [
    "D2000=df.loc[df['Date']>'1999-12-31']\n",
    "D2000.head()"
   ]
  },
  {
   "cell_type": "code",
   "execution_count": 11,
   "metadata": {},
   "outputs": [
    {
     "name": "stdout",
     "output_type": "stream",
     "text": [
      "190 banks have data that is after 2000\n"
     ]
    }
   ],
   "source": [
    "profile_2000 = D2000['Ticker'].value_counts()\n",
    "\n",
    "print len(profile_2000),'banks have data that is after 2000'"
   ]
  },
  {
   "cell_type": "markdown",
   "metadata": {},
   "source": [
    "Question 2:\n",
    "\n",
    "Filter the sample to observations that record daily data from 2000-2017\n",
    "Calculate the average daily difference between closing and opening prices. (Hint: compute the difference between the closing and opening prices for each bank, then take the average for that day).\n",
    "Plot the outcomes. Provide a brief discussion about what you see"
   ]
  },
  {
   "cell_type": "code",
   "execution_count": 15,
   "metadata": {},
   "outputs": [
    {
     "name": "stderr",
     "output_type": "stream",
     "text": [
      "/usr/local/lib/python2.7/dist-packages/ipykernel_launcher.py:1: SettingWithCopyWarning: \n",
      "A value is trying to be set on a copy of a slice from a DataFrame.\n",
      "Try using .loc[row_indexer,col_indexer] = value instead\n",
      "\n",
      "See the caveats in the documentation: http://pandas.pydata.org/pandas-docs/stable/indexing.html#indexing-view-versus-copy\n",
      "  \"\"\"Entry point for launching an IPython kernel.\n"
     ]
    },
    {
     "data": {
      "text/html": [
       "<div>\n",
       "<style scoped>\n",
       "    .dataframe tbody tr th:only-of-type {\n",
       "        vertical-align: middle;\n",
       "    }\n",
       "\n",
       "    .dataframe tbody tr th {\n",
       "        vertical-align: top;\n",
       "    }\n",
       "\n",
       "    .dataframe thead th {\n",
       "        text-align: right;\n",
       "    }\n",
       "</style>\n",
       "<table border=\"1\" class=\"dataframe\">\n",
       "  <thead>\n",
       "    <tr style=\"text-align: right;\">\n",
       "      <th></th>\n",
       "      <th>Date</th>\n",
       "      <th>Ticker</th>\n",
       "      <th>Open</th>\n",
       "      <th>High</th>\n",
       "      <th>Low</th>\n",
       "      <th>Close</th>\n",
       "      <th>Volume</th>\n",
       "      <th>diff</th>\n",
       "    </tr>\n",
       "  </thead>\n",
       "  <tbody>\n",
       "    <tr>\n",
       "      <th>4170</th>\n",
       "      <td>2000-01-03</td>\n",
       "      <td>ABCB</td>\n",
       "      <td>8.862454</td>\n",
       "      <td>8.913097</td>\n",
       "      <td>8.406671</td>\n",
       "      <td>8.710527</td>\n",
       "      <td>584.981849</td>\n",
       "      <td>-0.151928</td>\n",
       "    </tr>\n",
       "    <tr>\n",
       "      <th>4171</th>\n",
       "      <td>2000-01-04</td>\n",
       "      <td>ABCB</td>\n",
       "      <td>8.507956</td>\n",
       "      <td>8.609241</td>\n",
       "      <td>8.507956</td>\n",
       "      <td>8.609241</td>\n",
       "      <td>72.814196</td>\n",
       "      <td>0.101285</td>\n",
       "    </tr>\n",
       "    <tr>\n",
       "      <th>4172</th>\n",
       "      <td>2000-01-05</td>\n",
       "      <td>ABCB</td>\n",
       "      <td>8.507956</td>\n",
       "      <td>8.609241</td>\n",
       "      <td>8.507956</td>\n",
       "      <td>8.609241</td>\n",
       "      <td>86.389725</td>\n",
       "      <td>0.101285</td>\n",
       "    </tr>\n",
       "    <tr>\n",
       "      <th>4173</th>\n",
       "      <td>2000-01-06</td>\n",
       "      <td>ABCB</td>\n",
       "      <td>8.659884</td>\n",
       "      <td>8.913097</td>\n",
       "      <td>8.609241</td>\n",
       "      <td>8.609241</td>\n",
       "      <td>16.043806</td>\n",
       "      <td>-0.050643</td>\n",
       "    </tr>\n",
       "    <tr>\n",
       "      <th>4174</th>\n",
       "      <td>2000-01-07</td>\n",
       "      <td>ABCB</td>\n",
       "      <td>8.811812</td>\n",
       "      <td>8.913097</td>\n",
       "      <td>8.609241</td>\n",
       "      <td>8.710527</td>\n",
       "      <td>130.818726</td>\n",
       "      <td>-0.101285</td>\n",
       "    </tr>\n",
       "  </tbody>\n",
       "</table>\n",
       "</div>"
      ],
      "text/plain": [
       "           Date Ticker      Open      High       Low     Close      Volume  \\\n",
       "4170 2000-01-03   ABCB  8.862454  8.913097  8.406671  8.710527  584.981849   \n",
       "4171 2000-01-04   ABCB  8.507956  8.609241  8.507956  8.609241   72.814196   \n",
       "4172 2000-01-05   ABCB  8.507956  8.609241  8.507956  8.609241   86.389725   \n",
       "4173 2000-01-06   ABCB  8.659884  8.913097  8.609241  8.609241   16.043806   \n",
       "4174 2000-01-07   ABCB  8.811812  8.913097  8.609241  8.710527  130.818726   \n",
       "\n",
       "          diff  \n",
       "4170 -0.151928  \n",
       "4171  0.101285  \n",
       "4172  0.101285  \n",
       "4173 -0.050643  \n",
       "4174 -0.101285  "
      ]
     },
     "execution_count": 15,
     "metadata": {},
     "output_type": "execute_result"
    }
   ],
   "source": [
    "D2000['diff']=D2000['Close']-D2000['Open']\n",
    "D2000.head()\n",
    "\n"
   ]
  },
  {
   "cell_type": "code",
   "execution_count": 36,
   "metadata": {},
   "outputs": [
    {
     "data": {
      "text/html": [
       "<div>\n",
       "<style scoped>\n",
       "    .dataframe tbody tr th:only-of-type {\n",
       "        vertical-align: middle;\n",
       "    }\n",
       "\n",
       "    .dataframe tbody tr th {\n",
       "        vertical-align: top;\n",
       "    }\n",
       "\n",
       "    .dataframe thead th {\n",
       "        text-align: right;\n",
       "    }\n",
       "</style>\n",
       "<table border=\"1\" class=\"dataframe\">\n",
       "  <thead>\n",
       "    <tr style=\"text-align: right;\">\n",
       "      <th></th>\n",
       "      <th>Open</th>\n",
       "      <th>High</th>\n",
       "      <th>Low</th>\n",
       "      <th>Close</th>\n",
       "      <th>Volume</th>\n",
       "      <th>diff</th>\n",
       "    </tr>\n",
       "    <tr>\n",
       "      <th>Date</th>\n",
       "      <th></th>\n",
       "      <th></th>\n",
       "      <th></th>\n",
       "      <th></th>\n",
       "      <th></th>\n",
       "      <th></th>\n",
       "    </tr>\n",
       "  </thead>\n",
       "  <tbody>\n",
       "    <tr>\n",
       "      <th>2000-01-03</th>\n",
       "      <td>16.444438</td>\n",
       "      <td>16.631901</td>\n",
       "      <td>16.119347</td>\n",
       "      <td>16.291879</td>\n",
       "      <td>261.116954</td>\n",
       "      <td>-0.152559</td>\n",
       "    </tr>\n",
       "    <tr>\n",
       "      <th>2000-01-04</th>\n",
       "      <td>16.228953</td>\n",
       "      <td>16.420321</td>\n",
       "      <td>15.872725</td>\n",
       "      <td>16.019560</td>\n",
       "      <td>324.427140</td>\n",
       "      <td>-0.209393</td>\n",
       "    </tr>\n",
       "    <tr>\n",
       "      <th>2000-01-05</th>\n",
       "      <td>24.241264</td>\n",
       "      <td>24.441398</td>\n",
       "      <td>24.055904</td>\n",
       "      <td>24.246860</td>\n",
       "      <td>331.804837</td>\n",
       "      <td>0.005597</td>\n",
       "    </tr>\n",
       "    <tr>\n",
       "      <th>2000-01-06</th>\n",
       "      <td>45.607800</td>\n",
       "      <td>46.499396</td>\n",
       "      <td>45.433375</td>\n",
       "      <td>46.276104</td>\n",
       "      <td>305.821720</td>\n",
       "      <td>0.668304</td>\n",
       "    </tr>\n",
       "    <tr>\n",
       "      <th>2000-01-07</th>\n",
       "      <td>46.176625</td>\n",
       "      <td>46.471184</td>\n",
       "      <td>46.049463</td>\n",
       "      <td>46.241788</td>\n",
       "      <td>284.781132</td>\n",
       "      <td>0.065163</td>\n",
       "    </tr>\n",
       "  </tbody>\n",
       "</table>\n",
       "</div>"
      ],
      "text/plain": [
       "                 Open       High        Low      Close      Volume      diff\n",
       "Date                                                                        \n",
       "2000-01-03  16.444438  16.631901  16.119347  16.291879  261.116954 -0.152559\n",
       "2000-01-04  16.228953  16.420321  15.872725  16.019560  324.427140 -0.209393\n",
       "2000-01-05  24.241264  24.441398  24.055904  24.246860  331.804837  0.005597\n",
       "2000-01-06  45.607800  46.499396  45.433375  46.276104  305.821720  0.668304\n",
       "2000-01-07  46.176625  46.471184  46.049463  46.241788  284.781132  0.065163"
      ]
     },
     "execution_count": 36,
     "metadata": {},
     "output_type": "execute_result"
    }
   ],
   "source": [
    "df_group = D2000.groupby([\"Date\"]).mean()\n",
    "df_group.head()"
   ]
  },
  {
   "cell_type": "code",
   "execution_count": 37,
   "metadata": {},
   "outputs": [
    {
     "data": {
      "image/png": "[encoded data removed]",
      "text/plain": [
       "<matplotlib.figure.Figure at 0x7f5daffe1090>"
      ]
     },
     "metadata": {},
     "output_type": "display_data"
    }
   ],
   "source": [
    "%matplotlib inline\n",
    "import matplotlib.pyplot as plt\n",
    "import numpy as np\n",
    "\n",
    "\n",
    "\n",
    "df_group['diff'].hist(bins=500)\n",
    "plt.title(\"Average Daily Difference Distribution\")\n",
    "plt.xlabel(\"Average Daily Difference\")\n",
    "plt.ylabel(\"Occurence\")\n",
    "plt.show()\n"
   ]
  },
  {
   "cell_type": "code",
   "execution_count": 38,
   "metadata": {},
   "outputs": [
    {
     "data": {
      "image/png": "[encoded data removed]",
      "text/plain": [
       "<matplotlib.figure.Figure at 0x7f5dae91ddd0>"
      ]
     },
     "metadata": {},
     "output_type": "display_data"
    },
    {
     "name": "stdout",
     "output_type": "stream",
     "text": [
      "The average daily difference of closing and opening prices is normally distributd, and the meadian is approximately 0 \n"
     ]
    }
   ],
   "source": [
    "df_group['diff'].hist(bins=500)\n",
    "plt.title(\"Average Daily Difference Distribution (x_lim=(-2,2))\")\n",
    "plt.xlabel(\"Average Daily Difference\")\n",
    "plt.ylabel(\"Occurence\")\n",
    "plt.xlim(-2, 2)\n",
    "plt.show()\n",
    "\n",
    "print \"The average daily difference of closing and opening prices is normally distributd, and the meadian is approximately 0 \""
   ]
  },
  {
   "cell_type": "code",
   "execution_count": 39,
   "metadata": {},
   "outputs": [
    {
     "data": {
      "text/plain": [
       "Date\n",
       "2000-01-03   -0.152559\n",
       "2000-01-04   -0.209393\n",
       "2000-01-05    0.005597\n",
       "2000-01-06    0.668304\n",
       "2000-01-07    0.065163\n",
       "Name: diff, dtype: float64"
      ]
     },
     "execution_count": 39,
     "metadata": {},
     "output_type": "execute_result"
    }
   ],
   "source": [
    "df_groupp = df_group['diff']\n",
    "df_groupp.head()"
   ]
  },
  {
   "cell_type": "code",
   "execution_count": 56,
   "metadata": {},
   "outputs": [
    {
     "data": {
      "image/png": "[encoded data removed]",
      "text/plain": [
       "<matplotlib.figure.Figure at 0x7f5dadb59890>"
      ]
     },
     "metadata": {},
     "output_type": "display_data"
    },
    {
     "name": "stdout",
     "output_type": "stream",
     "text": [
      "The average daily price difference overtime is approximatly 0, and it can be observed that during some time periods the price is more volatile than others\n"
     ]
    }
   ],
   "source": [
    "\n",
    "line_graph = df_groupp.plot(kind=\"Line\", figsize = (20,10))\n",
    "plt.title(\"Changes in Average Daily Difference Between Closing and Opening Price Across Time\")\n",
    "plt.xlabel(\"Time\")\n",
    "plt.ylabel(\"Average Daily Difference\")\n",
    "plt.show()\n",
    "\n",
    "print \"The average daily price difference overtime is approximatly 0, and it can be observed that during some time periods\\\n",
    " the price is more volatile than others.\"\n"
   ]
  },
  {
   "cell_type": "markdown",
   "metadata": {},
   "source": [
    "Question 3: Suppose you are interested in the average daily price variation from 1975-2017\n",
    "to understand volatility over time. Calculate the average daily price variation\n",
    "and plot the outcomes. (Hint: compute the difference between the high and\n",
    "low prices and divide that number by the closing price for each bank). Provide\n",
    "a brief discussion about what you see."
   ]
  },
  {
   "cell_type": "code",
   "execution_count": 90,
   "metadata": {},
   "outputs": [
    {
     "data": {
      "text/html": [
       "<div>\n",
       "<style scoped>\n",
       "    .dataframe tbody tr th:only-of-type {\n",
       "        vertical-align: middle;\n",
       "    }\n",
       "\n",
       "    .dataframe tbody tr th {\n",
       "        vertical-align: top;\n",
       "    }\n",
       "\n",
       "    .dataframe thead th {\n",
       "        text-align: right;\n",
       "    }\n",
       "</style>\n",
       "<table border=\"1\" class=\"dataframe\">\n",
       "  <thead>\n",
       "    <tr style=\"text-align: right;\">\n",
       "      <th></th>\n",
       "      <th>Date</th>\n",
       "      <th>Ticker</th>\n",
       "      <th>Open</th>\n",
       "      <th>High</th>\n",
       "      <th>Low</th>\n",
       "      <th>Close</th>\n",
       "      <th>Volume</th>\n",
       "      <th>variation</th>\n",
       "      <th>Variation</th>\n",
       "      <th>Variation(%)</th>\n",
       "    </tr>\n",
       "  </thead>\n",
       "  <tbody>\n",
       "    <tr>\n",
       "      <th>0</th>\n",
       "      <td>1975-01-02</td>\n",
       "      <td>ABAN2</td>\n",
       "      <td>5.0000</td>\n",
       "      <td>5.2500</td>\n",
       "      <td>4.7500</td>\n",
       "      <td>5.0000</td>\n",
       "      <td>0.0</td>\n",
       "      <td>0.100000</td>\n",
       "      <td>10.000000</td>\n",
       "      <td>10.000000</td>\n",
       "    </tr>\n",
       "    <tr>\n",
       "      <th>1</th>\n",
       "      <td>1975-01-03</td>\n",
       "      <td>ABAN2</td>\n",
       "      <td>5.0000</td>\n",
       "      <td>5.2500</td>\n",
       "      <td>4.7500</td>\n",
       "      <td>5.0000</td>\n",
       "      <td>0.0</td>\n",
       "      <td>0.100000</td>\n",
       "      <td>10.000000</td>\n",
       "      <td>10.000000</td>\n",
       "    </tr>\n",
       "    <tr>\n",
       "      <th>2</th>\n",
       "      <td>1975-01-06</td>\n",
       "      <td>ABAN2</td>\n",
       "      <td>5.0000</td>\n",
       "      <td>5.2500</td>\n",
       "      <td>4.7500</td>\n",
       "      <td>5.0000</td>\n",
       "      <td>0.0</td>\n",
       "      <td>0.100000</td>\n",
       "      <td>10.000000</td>\n",
       "      <td>10.000000</td>\n",
       "    </tr>\n",
       "    <tr>\n",
       "      <th>3</th>\n",
       "      <td>1975-01-07</td>\n",
       "      <td>ABAN2</td>\n",
       "      <td>5.0000</td>\n",
       "      <td>5.3125</td>\n",
       "      <td>4.8125</td>\n",
       "      <td>5.0625</td>\n",
       "      <td>0.0</td>\n",
       "      <td>0.098765</td>\n",
       "      <td>9.876543</td>\n",
       "      <td>9.876543</td>\n",
       "    </tr>\n",
       "    <tr>\n",
       "      <th>4</th>\n",
       "      <td>1975-01-08</td>\n",
       "      <td>ABAN2</td>\n",
       "      <td>5.0625</td>\n",
       "      <td>5.3750</td>\n",
       "      <td>4.8750</td>\n",
       "      <td>5.1250</td>\n",
       "      <td>0.0</td>\n",
       "      <td>0.097561</td>\n",
       "      <td>9.756098</td>\n",
       "      <td>9.756098</td>\n",
       "    </tr>\n",
       "  </tbody>\n",
       "</table>\n",
       "</div>"
      ],
      "text/plain": [
       "        Date Ticker    Open    High     Low   Close  Volume  variation  \\\n",
       "0 1975-01-02  ABAN2  5.0000  5.2500  4.7500  5.0000     0.0   0.100000   \n",
       "1 1975-01-03  ABAN2  5.0000  5.2500  4.7500  5.0000     0.0   0.100000   \n",
       "2 1975-01-06  ABAN2  5.0000  5.2500  4.7500  5.0000     0.0   0.100000   \n",
       "3 1975-01-07  ABAN2  5.0000  5.3125  4.8125  5.0625     0.0   0.098765   \n",
       "4 1975-01-08  ABAN2  5.0625  5.3750  4.8750  5.1250     0.0   0.097561   \n",
       "\n",
       "   Variation  Variation(%)  \n",
       "0  10.000000     10.000000  \n",
       "1  10.000000     10.000000  \n",
       "2  10.000000     10.000000  \n",
       "3   9.876543      9.876543  \n",
       "4   9.756098      9.756098  "
      ]
     },
     "execution_count": 90,
     "metadata": {},
     "output_type": "execute_result"
    }
   ],
   "source": [
    "df_var=df\n",
    "df_var['Variation(%)'] = (df_var['High']-df_var['Low'])*100/df_var['Close']\n",
    "df_var.head()"
   ]
  },
  {
   "cell_type": "code",
   "execution_count": 91,
   "metadata": {},
   "outputs": [
    {
     "data": {
      "text/html": [
       "<div>\n",
       "<style scoped>\n",
       "    .dataframe tbody tr th:only-of-type {\n",
       "        vertical-align: middle;\n",
       "    }\n",
       "\n",
       "    .dataframe tbody tr th {\n",
       "        vertical-align: top;\n",
       "    }\n",
       "\n",
       "    .dataframe thead th {\n",
       "        text-align: right;\n",
       "    }\n",
       "</style>\n",
       "<table border=\"1\" class=\"dataframe\">\n",
       "  <thead>\n",
       "    <tr style=\"text-align: right;\">\n",
       "      <th></th>\n",
       "      <th>Open</th>\n",
       "      <th>High</th>\n",
       "      <th>Low</th>\n",
       "      <th>Close</th>\n",
       "      <th>Volume</th>\n",
       "      <th>variation</th>\n",
       "      <th>Variation</th>\n",
       "      <th>Variation(%)</th>\n",
       "    </tr>\n",
       "    <tr>\n",
       "      <th>Date</th>\n",
       "      <th></th>\n",
       "      <th></th>\n",
       "      <th></th>\n",
       "      <th></th>\n",
       "      <th></th>\n",
       "      <th></th>\n",
       "      <th></th>\n",
       "      <th></th>\n",
       "    </tr>\n",
       "  </thead>\n",
       "  <tbody>\n",
       "    <tr>\n",
       "      <th>1975-01-02</th>\n",
       "      <td>6.824310</td>\n",
       "      <td>7.266536</td>\n",
       "      <td>6.581548</td>\n",
       "      <td>6.930121</td>\n",
       "      <td>0.702800</td>\n",
       "      <td>0.103455</td>\n",
       "      <td>10.345463</td>\n",
       "      <td>10.345463</td>\n",
       "    </tr>\n",
       "    <tr>\n",
       "      <th>1975-01-03</th>\n",
       "      <td>6.952755</td>\n",
       "      <td>7.334600</td>\n",
       "      <td>6.649612</td>\n",
       "      <td>6.998186</td>\n",
       "      <td>2.065400</td>\n",
       "      <td>0.098937</td>\n",
       "      <td>9.893750</td>\n",
       "      <td>9.893750</td>\n",
       "    </tr>\n",
       "    <tr>\n",
       "      <th>1975-01-06</th>\n",
       "      <td>6.393994</td>\n",
       "      <td>6.708809</td>\n",
       "      <td>6.106049</td>\n",
       "      <td>6.415433</td>\n",
       "      <td>1.917913</td>\n",
       "      <td>0.088402</td>\n",
       "      <td>8.840166</td>\n",
       "      <td>8.840166</td>\n",
       "    </tr>\n",
       "    <tr>\n",
       "      <th>1975-01-07</th>\n",
       "      <td>6.427511</td>\n",
       "      <td>6.844794</td>\n",
       "      <td>6.225878</td>\n",
       "      <td>6.551418</td>\n",
       "      <td>2.531478</td>\n",
       "      <td>0.091766</td>\n",
       "      <td>9.176624</td>\n",
       "      <td>9.176624</td>\n",
       "    </tr>\n",
       "    <tr>\n",
       "      <th>1975-01-08</th>\n",
       "      <td>6.559470</td>\n",
       "      <td>6.939761</td>\n",
       "      <td>6.326132</td>\n",
       "      <td>6.640951</td>\n",
       "      <td>4.699304</td>\n",
       "      <td>0.090392</td>\n",
       "      <td>9.039192</td>\n",
       "      <td>9.039192</td>\n",
       "    </tr>\n",
       "  </tbody>\n",
       "</table>\n",
       "</div>"
      ],
      "text/plain": [
       "                Open      High       Low     Close    Volume  variation  \\\n",
       "Date                                                                      \n",
       "1975-01-02  6.824310  7.266536  6.581548  6.930121  0.702800   0.103455   \n",
       "1975-01-03  6.952755  7.334600  6.649612  6.998186  2.065400   0.098937   \n",
       "1975-01-06  6.393994  6.708809  6.106049  6.415433  1.917913   0.088402   \n",
       "1975-01-07  6.427511  6.844794  6.225878  6.551418  2.531478   0.091766   \n",
       "1975-01-08  6.559470  6.939761  6.326132  6.640951  4.699304   0.090392   \n",
       "\n",
       "            Variation  Variation(%)  \n",
       "Date                                 \n",
       "1975-01-02  10.345463     10.345463  \n",
       "1975-01-03   9.893750      9.893750  \n",
       "1975-01-06   8.840166      8.840166  \n",
       "1975-01-07   9.176624      9.176624  \n",
       "1975-01-08   9.039192      9.039192  "
      ]
     },
     "execution_count": 91,
     "metadata": {},
     "output_type": "execute_result"
    }
   ],
   "source": [
    "df_vargp=df_var.groupby(['Date'] ).mean()\n",
    "df_vargp.head()"
   ]
  },
  {
   "cell_type": "code",
   "execution_count": 92,
   "metadata": {},
   "outputs": [
    {
     "data": {
      "text/plain": [
       "Date\n",
       "1975-01-02    10.345463\n",
       "1975-01-03     9.893750\n",
       "1975-01-06     8.840166\n",
       "1975-01-07     9.176624\n",
       "1975-01-08     9.039192\n",
       "Name: Variation, dtype: float64"
      ]
     },
     "execution_count": 92,
     "metadata": {},
     "output_type": "execute_result"
    }
   ],
   "source": [
    "df_vargpp=df_vargp['Variation']\n",
    "df_vargpp.head()"
   ]
  },
  {
   "cell_type": "code",
   "execution_count": 96,
   "metadata": {},
   "outputs": [
    {
     "data": {
      "image/png": "[encoded data removed]",
      "text/plain": [
       "<matplotlib.figure.Figure at 0x7f5da92b0c10>"
      ]
     },
     "metadata": {},
     "output_type": "display_data"
    }
   ],
   "source": [
    "df_vargpp.hist(bins=500)\n",
    "plt.title(\"Average Price Variation Distribution\")\n",
    "plt.xlabel(\"Average Daily Price Variation(%)\")\n",
    "plt.ylabel(\"Occurence\")\n",
    "plt.show()"
   ]
  },
  {
   "cell_type": "code",
   "execution_count": 99,
   "metadata": {},
   "outputs": [
    {
     "data": {
      "image/png": "[encoded data removed]",
      "text/plain": [
       "<matplotlib.figure.Figure at 0x7f5dafbfa690>"
      ]
     },
     "metadata": {},
     "output_type": "display_data"
    },
    {
     "name": "stdout",
     "output_type": "stream",
     "text": [
      "The average daily variation distribution displays positive skewness in that the mean is greater than the meadian and the mode. For most days, the price variation is less than 10%. It is more common for smaller price variation than larger ones, thus the market is relatively stable for most cases.\n"
     ]
    }
   ],
   "source": [
    "df_vargpp.hist(bins=2000)\n",
    "plt.title(\"Average Price Variation Distribution\")\n",
    "plt.xlabel(\"Average Daily Price Variation(%)\")\n",
    "plt.ylabel(\"Occurence\")\n",
    "plt.xlim(0, 20)\n",
    "plt.show()\n",
    "\n",
    "print\"The average daily variation distribution displays positive skewness in that the mean is greater than the meadian and the mode\\\n",
    ". For most days, the price variation is less than 10%. It is more common for smaller price variation than larger ones, thus the market is relatively stable for most cases.\""
   ]
  },
  {
   "cell_type": "code",
   "execution_count": 103,
   "metadata": {},
   "outputs": [
    {
     "data": {
      "image/png": "[encoded data removed]",
      "text/plain": [
       "<matplotlib.figure.Figure at 0x7f5dafc110d0>"
      ]
     },
     "metadata": {},
     "output_type": "display_data"
    },
    {
     "name": "stdout",
     "output_type": "stream",
     "text": [
      "The daily price variation is relatively small for most cases, and the market is mostly stable except for short periods of instability.\n"
     ]
    }
   ],
   "source": [
    "line_graph = df_vargpp.plot(kind=\"Line\", figsize = (15,8))\n",
    "plt.title(\"Changes in Average Daily Price Variation Across Time\")\n",
    "plt.xlabel(\"Time\")\n",
    "plt.ylabel(\"Average Daily Price Variation (%)\")\n",
    "plt.show()\n",
    "\n",
    "print \"The daily price variation is relatively small for most cases, and the market is mostly stable except for short \\\n",
    "periods of instability.\""
   ]
  },
  {
   "cell_type": "code",
   "execution_count": null,
   "metadata": {},
   "outputs": [],
   "source": []
  }
 ],
 "metadata": {
  "kernelspec": {
   "display_name": "Python 2",
   "language": "python",
   "name": "python2"
  },
  "language_info": {
   "codemirror_mode": {
    "name": "ipython",
    "version": 2
   },
   "file_extension": ".py",
   "mimetype": "text/x-python",
   "name": "python",
   "nbconvert_exporter": "python",
   "pygments_lexer": "ipython2",
   "version": "2.7.12"
  }
 },
 "nbformat": 4,
 "nbformat_minor": 2
}
