{
 "cells": [
  {
   "cell_type": "markdown",
   "metadata": {},
   "source": [
    "# HW 2 - Starter Code"
   ]
  },
  {
   "cell_type": "markdown",
   "metadata": {},
   "source": [
    "The database contains many tables / relations, but we will be mainly using 2 relations: Salaries and Teams. The schema (description of the fields in the tables) are given below. Not all columns/fields are relevant for this homework, and we will pointout relevant fields as we walk through the assignement. \n",
    "\n",
    "Salaries table\n",
    "---------------\n",
    "- yearID         Year\n",
    "- teamID         Team\n",
    "- lgID           League\n",
    "- playerID       Player ID code\n",
    "- salary         Salary\n",
    "\n",
    "\n",
    "Teams Table\n",
    "-----------\n",
    "- yearID         Year\n",
    "- lgID           League\n",
    "- teamID         Team\n",
    "- franchID       Franchise (links to TeamsFranchise table)\n",
    "- divID          Team's division\n",
    "- Rank           Position in final standings\n",
    "- G              Games played\n",
    "- GHome          Games played at home\n",
    "- W              Wins\n",
    "- L              Losses\n",
    "- DivWin         Division Winner (Y or N)\n",
    "- WCWin          Wild Card Winner (Y or N)\n",
    "- LgWin          League Champion(Y or N)\n",
    "- WSWin          World Series Winner (Y or N)\n",
    "- R              Runs scored\n",
    "- AB             At bats\n",
    "- H              Hits by batters\n",
    "- 2B             Doubles\n",
    "- 3B             Triples\n",
    "- HR             Homeruns by batters\n",
    "- BB             Walks by batters\n",
    "- SO             Strikeouts by batters\n",
    "- SB             Stolen bases\n",
    "- CS             Caught stealing\n",
    "- HBP            Batters hit by pitch\n",
    "- SF             Sacrifice flies\n",
    "- RA             Opponents runs scored\n",
    "- ER             Earned runs allowed\n",
    "- ERA            Earned run average\n",
    "- CG             Complete games\n",
    "- SHO            Shutouts\n",
    "- SV             Saves\n",
    "- IPOuts         Outs Pitched (innings pitched x 3)\n",
    "- HA             Hits allowed\n",
    "- HRA            Homeruns allowed\n",
    "- BBA            Walks allowed\n",
    "- SOA            Strikeouts by pitchers\n",
    "- E              Errors\n",
    "- DP             Double Plays\n",
    "- FP             Fielding  percentage\n",
    "- name           Team's full name\n",
    "- park           Name of team's home ballpark\n",
    "- attendance     Home attendance total\n",
    "- BPF            Three-year park factor for batters\n",
    "- PPF            Three-year park factor for pitchers\n",
    "- teamIDBR       Team ID used by Baseball Reference website\n",
    "- teamIDlahman45 Team ID used in Lahman database version 4.5\n",
    "- teamIDretro    Team ID used by Retrosheet"
   ]
  },
  {
   "cell_type": "code",
   "execution_count": 156,
   "metadata": {},
   "outputs": [
    {
     "data": {
      "text/html": [
       "<div>\n",
       "<style scoped>\n",
       "    .dataframe tbody tr th:only-of-type {\n",
       "        vertical-align: middle;\n",
       "    }\n",
       "\n",
       "    .dataframe tbody tr th {\n",
       "        vertical-align: top;\n",
       "    }\n",
       "\n",
       "    .dataframe thead th {\n",
       "        text-align: right;\n",
       "    }\n",
       "</style>\n",
       "<table border=\"1\" class=\"dataframe\">\n",
       "  <thead>\n",
       "    <tr style=\"text-align: right;\">\n",
       "      <th></th>\n",
       "      <th>yearID</th>\n",
       "      <th>total_payroll</th>\n",
       "    </tr>\n",
       "  </thead>\n",
       "  <tbody>\n",
       "    <tr>\n",
       "      <th>0</th>\n",
       "      <td>1985</td>\n",
       "      <td>134401120.0</td>\n",
       "    </tr>\n",
       "    <tr>\n",
       "      <th>1</th>\n",
       "      <td>1986</td>\n",
       "      <td>157716444.0</td>\n",
       "    </tr>\n",
       "    <tr>\n",
       "      <th>2</th>\n",
       "      <td>1987</td>\n",
       "      <td>136088747.0</td>\n",
       "    </tr>\n",
       "    <tr>\n",
       "      <th>3</th>\n",
       "      <td>1988</td>\n",
       "      <td>157049812.0</td>\n",
       "    </tr>\n",
       "    <tr>\n",
       "      <th>4</th>\n",
       "      <td>1989</td>\n",
       "      <td>188771688.0</td>\n",
       "    </tr>\n",
       "  </tbody>\n",
       "</table>\n",
       "</div>"
      ],
      "text/plain": [
       "   yearID  total_payroll\n",
       "0    1985    134401120.0\n",
       "1    1986    157716444.0\n",
       "2    1987    136088747.0\n",
       "3    1988    157049812.0\n",
       "4    1989    188771688.0"
      ]
     },
     "execution_count": 156,
     "metadata": {},
     "output_type": "execute_result"
    }
   ],
   "source": [
    "import sqlite3\n",
    "import pandas\n",
    "\n",
    "sqlite_file = 'lahman2014.sqlite'\n",
    "conn = sqlite3.connect(sqlite_file)  # connect to database and ingest the tables \n",
    "\n",
    "# lets run a query to look at the data\n",
    "salary_query = \"SELECT yearID, sum(salary) as total_payroll FROM Salaries WHERE lgID == 'AL' GROUP BY yearID\"\n",
    "\n",
    "team_salaries = pandas.read_sql(salary_query, conn)\n",
    "team_salaries.head()"
   ]
  },
  {
   "cell_type": "markdown",
   "metadata": {},
   "source": [
    "## Analysis\n",
    "\n",
    "We want to understand how efficient teams have been historically at spending money and getting wins in return. In the case of Moneyball, one would expect that Oakland was not much more efficient than other teams in their spending before 2000, were much more efficient (they made a movie about it after all) between 2000 and 2005, and by then other teams may have caught up. Lets see how this is reflected in the data we have."
   ]
  },
  {
   "cell_type": "markdown",
   "metadata": {},
   "source": [
    "### Relation Creation\n",
    "\n",
    "Using SQL compute a new relation that contains a subset of fields of interest to help us compute further statisitcs of interest.  We neeed to think about the type of join used as it determines how missing data is handled. In the code below, a SQL statment is executed to create the new relation jusing a join between the two tables; \n",
    "\n",
    "\n"
   ]
  },
  {
   "cell_type": "code",
   "execution_count": 157,
   "metadata": {},
   "outputs": [
    {
     "ename": "OperationalError",
     "evalue": "table statsTbl already exists",
     "output_type": "error",
     "traceback": [
      "\u001b[0;31m------------------------------------------------------------------------\u001b[0m",
      "\u001b[0;31mOperationalError\u001b[0m                       Traceback (most recent call last)",
      "\u001b[0;32m<ipython-input-157-80bcdee6a9d4>\u001b[0m in \u001b[0;36m<module>\u001b[0;34m()\u001b[0m\n\u001b[1;32m      2\u001b[0m \u001b[0;34m\u001b[0m\u001b[0m\n\u001b[1;32m      3\u001b[0m \u001b[0mcursor\u001b[0m \u001b[0;34m=\u001b[0m \u001b[0mconn\u001b[0m\u001b[0;34m.\u001b[0m\u001b[0mcursor\u001b[0m\u001b[0;34m(\u001b[0m\u001b[0;34m)\u001b[0m\u001b[0;34m\u001b[0m\u001b[0m\n\u001b[0;32m----> 4\u001b[0;31m \u001b[0mcursor\u001b[0m\u001b[0;34m.\u001b[0m\u001b[0mexecute\u001b[0m\u001b[0;34m(\u001b[0m\u001b[0mcreateTable_query\u001b[0m\u001b[0;34m)\u001b[0m\u001b[0;34m\u001b[0m\u001b[0m\n\u001b[0m\u001b[1;32m      5\u001b[0m \u001b[0mconn\u001b[0m\u001b[0;34m.\u001b[0m\u001b[0mcommit\u001b[0m\u001b[0;34m(\u001b[0m\u001b[0;34m)\u001b[0m\u001b[0;34m\u001b[0m\u001b[0m\n\u001b[1;32m      6\u001b[0m \u001b[0;34m\u001b[0m\u001b[0m\n",
      "\u001b[0;31mOperationalError\u001b[0m: table statsTbl already exists"
     ]
    }
   ],
   "source": [
    "createTable_query = \"CREATE TABLE statsTbl AS SELECT \\\n",
    "Salaries.yearID, Teams.teamID, Teams.name, Salaries.salary, Teams.G, Teams.W, Teams.L \\\n",
    "FROM Salaries  \\\n",
    "JOIN Teams \\\n",
    "ON Salaries.yearID=Teams.yearID AND Salaries.teamID=Teams.teamID \\\n",
    "WHERE Salaries.lgID=='AL' ;\"\n",
    "\n",
    "cursor = conn.cursor()\n",
    "cursor.execute(createTable_query)\n",
    "conn.commit()\n",
    "\n",
    "# if you run this mulitple times, you may see an error stating \"statsTbl already exists\". This error message can be ignored. "
   ]
  },
  {
   "cell_type": "code",
   "execution_count": 158,
   "metadata": {},
   "outputs": [
    {
     "data": {
      "text/html": [
       "<div>\n",
       "<style scoped>\n",
       "    .dataframe tbody tr th:only-of-type {\n",
       "        vertical-align: middle;\n",
       "    }\n",
       "\n",
       "    .dataframe tbody tr th {\n",
       "        vertical-align: top;\n",
       "    }\n",
       "\n",
       "    .dataframe thead th {\n",
       "        text-align: right;\n",
       "    }\n",
       "</style>\n",
       "<table border=\"1\" class=\"dataframe\">\n",
       "  <thead>\n",
       "    <tr style=\"text-align: right;\">\n",
       "      <th></th>\n",
       "      <th>yearID</th>\n",
       "      <th>teamID</th>\n",
       "      <th>name</th>\n",
       "      <th>salary</th>\n",
       "      <th>G</th>\n",
       "      <th>W</th>\n",
       "      <th>L</th>\n",
       "    </tr>\n",
       "  </thead>\n",
       "  <tbody>\n",
       "    <tr>\n",
       "      <th>0</th>\n",
       "      <td>1985</td>\n",
       "      <td>BAL</td>\n",
       "      <td>Baltimore Orioles</td>\n",
       "      <td>625000.0</td>\n",
       "      <td>161</td>\n",
       "      <td>83</td>\n",
       "      <td>78</td>\n",
       "    </tr>\n",
       "    <tr>\n",
       "      <th>1</th>\n",
       "      <td>1985</td>\n",
       "      <td>BAL</td>\n",
       "      <td>Baltimore Orioles</td>\n",
       "      <td>480000.0</td>\n",
       "      <td>161</td>\n",
       "      <td>83</td>\n",
       "      <td>78</td>\n",
       "    </tr>\n",
       "    <tr>\n",
       "      <th>2</th>\n",
       "      <td>1985</td>\n",
       "      <td>BAL</td>\n",
       "      <td>Baltimore Orioles</td>\n",
       "      <td>437500.0</td>\n",
       "      <td>161</td>\n",
       "      <td>83</td>\n",
       "      <td>78</td>\n",
       "    </tr>\n",
       "    <tr>\n",
       "      <th>3</th>\n",
       "      <td>1985</td>\n",
       "      <td>BAL</td>\n",
       "      <td>Baltimore Orioles</td>\n",
       "      <td>512500.0</td>\n",
       "      <td>161</td>\n",
       "      <td>83</td>\n",
       "      <td>78</td>\n",
       "    </tr>\n",
       "    <tr>\n",
       "      <th>4</th>\n",
       "      <td>1985</td>\n",
       "      <td>BAL</td>\n",
       "      <td>Baltimore Orioles</td>\n",
       "      <td>375000.0</td>\n",
       "      <td>161</td>\n",
       "      <td>83</td>\n",
       "      <td>78</td>\n",
       "    </tr>\n",
       "  </tbody>\n",
       "</table>\n",
       "</div>"
      ],
      "text/plain": [
       "   yearID teamID               name    salary    G   W   L\n",
       "0    1985    BAL  Baltimore Orioles  625000.0  161  83  78\n",
       "1    1985    BAL  Baltimore Orioles  480000.0  161  83  78\n",
       "2    1985    BAL  Baltimore Orioles  437500.0  161  83  78\n",
       "3    1985    BAL  Baltimore Orioles  512500.0  161  83  78\n",
       "4    1985    BAL  Baltimore Orioles  375000.0  161  83  78"
      ]
     },
     "execution_count": 158,
     "metadata": {},
     "output_type": "execute_result"
    }
   ],
   "source": [
    "query = \"select * from statsTbl;\"\n",
    "\n",
    "result = pandas.read_sql(query, conn)\n",
    "result.head()\n",
    "\n",
    "\n",
    "# As you can see, it generates a new table/relation which contains 7 fields:\n",
    "# yearID\n",
    "# teamID\n",
    "# name\n",
    "# salary\n",
    "# G --> denotes the number of games\n",
    "# W --> denotes the number of wins\n",
    "# L --> denotes the number of losses"
   ]
  },
  {
   "cell_type": "markdown",
   "metadata": {},
   "source": [
    "Suppose we want to print the rows / entries for Oakland between 1988 - 1989. Hint: need to use a WHERE clause in the SQL query to filter out rows only for teamID=\"OAK\""
   ]
  },
  {
   "cell_type": "code",
   "execution_count": 159,
   "metadata": {},
   "outputs": [
    {
     "data": {
      "text/html": [
       "<div>\n",
       "<style scoped>\n",
       "    .dataframe tbody tr th:only-of-type {\n",
       "        vertical-align: middle;\n",
       "    }\n",
       "\n",
       "    .dataframe tbody tr th {\n",
       "        vertical-align: top;\n",
       "    }\n",
       "\n",
       "    .dataframe thead th {\n",
       "        text-align: right;\n",
       "    }\n",
       "</style>\n",
       "<table border=\"1\" class=\"dataframe\">\n",
       "  <thead>\n",
       "    <tr style=\"text-align: right;\">\n",
       "      <th></th>\n",
       "      <th>yearID</th>\n",
       "      <th>teamID</th>\n",
       "      <th>name</th>\n",
       "      <th>salary</th>\n",
       "      <th>G</th>\n",
       "      <th>W</th>\n",
       "      <th>L</th>\n",
       "    </tr>\n",
       "  </thead>\n",
       "  <tbody>\n",
       "    <tr>\n",
       "      <th>0</th>\n",
       "      <td>1988</td>\n",
       "      <td>OAK</td>\n",
       "      <td>Oakland Athletics</td>\n",
       "      <td>495000.0</td>\n",
       "      <td>162</td>\n",
       "      <td>104</td>\n",
       "      <td>58</td>\n",
       "    </tr>\n",
       "    <tr>\n",
       "      <th>1</th>\n",
       "      <td>1988</td>\n",
       "      <td>OAK</td>\n",
       "      <td>Oakland Athletics</td>\n",
       "      <td>325000.0</td>\n",
       "      <td>162</td>\n",
       "      <td>104</td>\n",
       "      <td>58</td>\n",
       "    </tr>\n",
       "    <tr>\n",
       "      <th>2</th>\n",
       "      <td>1988</td>\n",
       "      <td>OAK</td>\n",
       "      <td>Oakland Athletics</td>\n",
       "      <td>550000.0</td>\n",
       "      <td>162</td>\n",
       "      <td>104</td>\n",
       "      <td>58</td>\n",
       "    </tr>\n",
       "    <tr>\n",
       "      <th>3</th>\n",
       "      <td>1988</td>\n",
       "      <td>OAK</td>\n",
       "      <td>Oakland Athletics</td>\n",
       "      <td>650000.0</td>\n",
       "      <td>162</td>\n",
       "      <td>104</td>\n",
       "      <td>58</td>\n",
       "    </tr>\n",
       "    <tr>\n",
       "      <th>4</th>\n",
       "      <td>1988</td>\n",
       "      <td>OAK</td>\n",
       "      <td>Oakland Athletics</td>\n",
       "      <td>100000.0</td>\n",
       "      <td>162</td>\n",
       "      <td>104</td>\n",
       "      <td>58</td>\n",
       "    </tr>\n",
       "  </tbody>\n",
       "</table>\n",
       "</div>"
      ],
      "text/plain": [
       "   yearID teamID               name    salary    G    W   L\n",
       "0    1988    OAK  Oakland Athletics  495000.0  162  104  58\n",
       "1    1988    OAK  Oakland Athletics  325000.0  162  104  58\n",
       "2    1988    OAK  Oakland Athletics  550000.0  162  104  58\n",
       "3    1988    OAK  Oakland Athletics  650000.0  162  104  58\n",
       "4    1988    OAK  Oakland Athletics  100000.0  162  104  58"
      ]
     },
     "execution_count": 159,
     "metadata": {},
     "output_type": "execute_result"
    }
   ],
   "source": [
    "query = \"SELECT * FROM statsTbl WHERE teamID='OAK' AND yearID>=1988 AND yearID<=1989;\"\n",
    "\n",
    "result = pandas.read_sql(query, conn)\n",
    "result.head()"
   ]
  },
  {
   "cell_type": "markdown",
   "metadata": {},
   "source": [
    "Suppose we want to print the year for which Oakland had the largest number of wins. Lets write that SQL query. "
   ]
  },
  {
   "cell_type": "code",
   "execution_count": 160,
   "metadata": {},
   "outputs": [
    {
     "data": {
      "text/html": [
       "<div>\n",
       "<style scoped>\n",
       "    .dataframe tbody tr th:only-of-type {\n",
       "        vertical-align: middle;\n",
       "    }\n",
       "\n",
       "    .dataframe tbody tr th {\n",
       "        vertical-align: top;\n",
       "    }\n",
       "\n",
       "    .dataframe thead th {\n",
       "        text-align: right;\n",
       "    }\n",
       "</style>\n",
       "<table border=\"1\" class=\"dataframe\">\n",
       "  <thead>\n",
       "    <tr style=\"text-align: right;\">\n",
       "      <th></th>\n",
       "      <th>yearID</th>\n",
       "      <th>max(W)</th>\n",
       "    </tr>\n",
       "  </thead>\n",
       "  <tbody>\n",
       "    <tr>\n",
       "      <th>0</th>\n",
       "      <td>1988</td>\n",
       "      <td>104</td>\n",
       "    </tr>\n",
       "  </tbody>\n",
       "</table>\n",
       "</div>"
      ],
      "text/plain": [
       "   yearID  max(W)\n",
       "0    1988     104"
      ]
     },
     "execution_count": 160,
     "metadata": {},
     "output_type": "execute_result"
    }
   ],
   "source": [
    "query = \"SELECT yearID, max(W) from statsTbl WHERE teamID='OAK';\"\n",
    "\n",
    "result = pandas.read_sql(query, conn)\n",
    "result.head()"
   ]
  },
  {
   "cell_type": "markdown",
   "metadata": {},
   "source": [
    "Suppose we want to compute the total payroll for teamID='OAK' for the yearID='1988'. To do this, we must sum-up all the salaries for a given team for a given year. "
   ]
  },
  {
   "cell_type": "code",
   "execution_count": 161,
   "metadata": {},
   "outputs": [
    {
     "data": {
      "text/html": [
       "<div>\n",
       "<style scoped>\n",
       "    .dataframe tbody tr th:only-of-type {\n",
       "        vertical-align: middle;\n",
       "    }\n",
       "\n",
       "    .dataframe tbody tr th {\n",
       "        vertical-align: top;\n",
       "    }\n",
       "\n",
       "    .dataframe thead th {\n",
       "        text-align: right;\n",
       "    }\n",
       "</style>\n",
       "<table border=\"1\" class=\"dataframe\">\n",
       "  <thead>\n",
       "    <tr style=\"text-align: right;\">\n",
       "      <th></th>\n",
       "      <th>teamID</th>\n",
       "      <th>yearID</th>\n",
       "      <th>TotalSalary</th>\n",
       "    </tr>\n",
       "  </thead>\n",
       "  <tbody>\n",
       "    <tr>\n",
       "      <th>0</th>\n",
       "      <td>OAK</td>\n",
       "      <td>1988</td>\n",
       "      <td>9690000.0</td>\n",
       "    </tr>\n",
       "  </tbody>\n",
       "</table>\n",
       "</div>"
      ],
      "text/plain": [
       "  teamID  yearID  TotalSalary\n",
       "0    OAK    1988    9690000.0"
      ]
     },
     "execution_count": 161,
     "metadata": {},
     "output_type": "execute_result"
    }
   ],
   "source": [
    "query = \"SELECT teamID, yearID, SUM(salary) AS TotalSalary  \\\n",
    "FROM statsTbl  \\\n",
    "WHERE yearID='1988' AND teamID='OAK' \\\n",
    "GROUP BY teamID,yearID;\"\n",
    "\n",
    "result = pandas.read_sql(query, conn)\n",
    "result.head()\n"
   ]
  },
  {
   "cell_type": "code",
   "execution_count": 162,
   "metadata": {},
   "outputs": [
    {
     "data": {
      "text/html": [
       "<div>\n",
       "<style scoped>\n",
       "    .dataframe tbody tr th:only-of-type {\n",
       "        vertical-align: middle;\n",
       "    }\n",
       "\n",
       "    .dataframe tbody tr th {\n",
       "        vertical-align: top;\n",
       "    }\n",
       "\n",
       "    .dataframe thead th {\n",
       "        text-align: right;\n",
       "    }\n",
       "</style>\n",
       "<table border=\"1\" class=\"dataframe\">\n",
       "  <thead>\n",
       "    <tr style=\"text-align: right;\">\n",
       "      <th></th>\n",
       "      <th>teamID</th>\n",
       "      <th>yearID</th>\n",
       "      <th>total_payroll</th>\n",
       "      <th>win_perc</th>\n",
       "    </tr>\n",
       "  </thead>\n",
       "  <tbody>\n",
       "    <tr>\n",
       "      <th>0</th>\n",
       "      <td>ANA</td>\n",
       "      <td>1997</td>\n",
       "      <td>31135472.0</td>\n",
       "      <td>51.851852</td>\n",
       "    </tr>\n",
       "    <tr>\n",
       "      <th>1</th>\n",
       "      <td>ANA</td>\n",
       "      <td>1998</td>\n",
       "      <td>41281000.0</td>\n",
       "      <td>52.469136</td>\n",
       "    </tr>\n",
       "    <tr>\n",
       "      <th>2</th>\n",
       "      <td>ANA</td>\n",
       "      <td>1999</td>\n",
       "      <td>55388166.0</td>\n",
       "      <td>43.209877</td>\n",
       "    </tr>\n",
       "    <tr>\n",
       "      <th>3</th>\n",
       "      <td>ANA</td>\n",
       "      <td>2000</td>\n",
       "      <td>51464167.0</td>\n",
       "      <td>50.617284</td>\n",
       "    </tr>\n",
       "    <tr>\n",
       "      <th>4</th>\n",
       "      <td>ANA</td>\n",
       "      <td>2001</td>\n",
       "      <td>47535167.0</td>\n",
       "      <td>46.296296</td>\n",
       "    </tr>\n",
       "  </tbody>\n",
       "</table>\n",
       "</div>"
      ],
      "text/plain": [
       "  teamID  yearID  total_payroll   win_perc\n",
       "0    ANA    1997     31135472.0  51.851852\n",
       "1    ANA    1998     41281000.0  52.469136\n",
       "2    ANA    1999     55388166.0  43.209877\n",
       "3    ANA    2000     51464167.0  50.617284\n",
       "4    ANA    2001     47535167.0  46.296296"
      ]
     },
     "execution_count": 162,
     "metadata": {},
     "output_type": "execute_result"
    }
   ],
   "source": [
    "#Problem 1\n",
    "#Using SQL, compute the result containing the total payroll and winning percentage (number of wins / number of games * 100) for each team (that is, for each teamID and yearID combination).\n",
    "#Hint: Be sure to perform a groupby on the fields teamID and yearID\n",
    "\n",
    "query = \"SELECT teamID, yearID, SUM(salary) AS total_payroll, (W*1.00/G)*100 as win_perc \\\n",
    "FROM statsTbl  \\\n",
    "GROUP BY teamID,yearID;\"\n",
    "\n",
    "result = pandas.read_sql(query, conn)\n",
    "result.head()\n"
   ]
  },
  {
   "cell_type": "code",
   "execution_count": 163,
   "metadata": {},
   "outputs": [
    {
     "ename": "OperationalError",
     "evalue": "table spend_perc already exists",
     "output_type": "error",
     "traceback": [
      "\u001b[0;31m------------------------------------------------------------------------\u001b[0m",
      "\u001b[0;31mOperationalError\u001b[0m                       Traceback (most recent call last)",
      "\u001b[0;32m<ipython-input-163-e5d0d4794930>\u001b[0m in \u001b[0;36m<module>\u001b[0;34m()\u001b[0m\n\u001b[1;32m      5\u001b[0m \u001b[0;34m\u001b[0m\u001b[0m\n\u001b[1;32m      6\u001b[0m \u001b[0mcursor\u001b[0m \u001b[0;34m=\u001b[0m \u001b[0mconn\u001b[0m\u001b[0;34m.\u001b[0m\u001b[0mcursor\u001b[0m\u001b[0;34m(\u001b[0m\u001b[0;34m)\u001b[0m\u001b[0;34m\u001b[0m\u001b[0m\n\u001b[0;32m----> 7\u001b[0;31m \u001b[0mcursor\u001b[0m\u001b[0;34m.\u001b[0m\u001b[0mexecute\u001b[0m\u001b[0;34m(\u001b[0m\u001b[0mcreateTable_query\u001b[0m\u001b[0;34m)\u001b[0m\u001b[0;34m\u001b[0m\u001b[0m\n\u001b[0m\u001b[1;32m      8\u001b[0m \u001b[0mconn\u001b[0m\u001b[0;34m.\u001b[0m\u001b[0mcommit\u001b[0m\u001b[0;34m(\u001b[0m\u001b[0;34m)\u001b[0m\u001b[0;34m\u001b[0m\u001b[0m\n\u001b[1;32m      9\u001b[0m \u001b[0;34m\u001b[0m\u001b[0m\n",
      "\u001b[0;31mOperationalError\u001b[0m: table spend_perc already exists"
     ]
    }
   ],
   "source": [
    "#Problem 2\n",
    "#Write code to printout the teamID that had the highest WinningPercentage over total sepending (salaries).\n",
    "\n",
    "createTable_query = \"CREATE TABLE spend_perc AS SELECT *, SUM(salary) as total_payroll, (W*100/G) as win_perc \\\n",
    "FROM statsTbl \\\n",
    "group by yearID, teamID;\"\n",
    "\n",
    "cursor = conn.cursor()\n",
    "cursor.execute(createTable_query)\n",
    "conn.commit()\n",
    "\n"
   ]
  },
  {
   "cell_type": "code",
   "execution_count": 164,
   "metadata": {},
   "outputs": [
    {
     "data": {
      "text/html": [
       "<div>\n",
       "<style scoped>\n",
       "    .dataframe tbody tr th:only-of-type {\n",
       "        vertical-align: middle;\n",
       "    }\n",
       "\n",
       "    .dataframe tbody tr th {\n",
       "        vertical-align: top;\n",
       "    }\n",
       "\n",
       "    .dataframe thead th {\n",
       "        text-align: right;\n",
       "    }\n",
       "</style>\n",
       "<table border=\"1\" class=\"dataframe\">\n",
       "  <thead>\n",
       "    <tr style=\"text-align: right;\">\n",
       "      <th></th>\n",
       "      <th>yearID</th>\n",
       "      <th>teamID</th>\n",
       "      <th>name</th>\n",
       "      <th>salary</th>\n",
       "      <th>G</th>\n",
       "      <th>W</th>\n",
       "      <th>L</th>\n",
       "      <th>total_payroll</th>\n",
       "      <th>win_perc</th>\n",
       "    </tr>\n",
       "  </thead>\n",
       "  <tbody>\n",
       "    <tr>\n",
       "      <th>0</th>\n",
       "      <td>1985</td>\n",
       "      <td>BAL</td>\n",
       "      <td>Baltimore Orioles</td>\n",
       "      <td>121000.0</td>\n",
       "      <td>161</td>\n",
       "      <td>83</td>\n",
       "      <td>78</td>\n",
       "      <td>11560712.0</td>\n",
       "      <td>51</td>\n",
       "    </tr>\n",
       "    <tr>\n",
       "      <th>1</th>\n",
       "      <td>1985</td>\n",
       "      <td>BOS</td>\n",
       "      <td>Boston Red Sox</td>\n",
       "      <td>325000.0</td>\n",
       "      <td>163</td>\n",
       "      <td>81</td>\n",
       "      <td>81</td>\n",
       "      <td>10897560.0</td>\n",
       "      <td>49</td>\n",
       "    </tr>\n",
       "    <tr>\n",
       "      <th>2</th>\n",
       "      <td>1985</td>\n",
       "      <td>CAL</td>\n",
       "      <td>California Angels</td>\n",
       "      <td>550000.0</td>\n",
       "      <td>162</td>\n",
       "      <td>90</td>\n",
       "      <td>72</td>\n",
       "      <td>14427894.0</td>\n",
       "      <td>55</td>\n",
       "    </tr>\n",
       "    <tr>\n",
       "      <th>3</th>\n",
       "      <td>1985</td>\n",
       "      <td>CHA</td>\n",
       "      <td>Chicago White Sox</td>\n",
       "      <td>195000.0</td>\n",
       "      <td>163</td>\n",
       "      <td>85</td>\n",
       "      <td>77</td>\n",
       "      <td>9846178.0</td>\n",
       "      <td>52</td>\n",
       "    </tr>\n",
       "    <tr>\n",
       "      <th>4</th>\n",
       "      <td>1985</td>\n",
       "      <td>CLE</td>\n",
       "      <td>Cleveland Indians</td>\n",
       "      <td>125000.0</td>\n",
       "      <td>162</td>\n",
       "      <td>60</td>\n",
       "      <td>102</td>\n",
       "      <td>6551666.0</td>\n",
       "      <td>37</td>\n",
       "    </tr>\n",
       "  </tbody>\n",
       "</table>\n",
       "</div>"
      ],
      "text/plain": [
       "   yearID teamID               name    salary    G   W    L  total_payroll  \\\n",
       "0    1985    BAL  Baltimore Orioles  121000.0  161  83   78     11560712.0   \n",
       "1    1985    BOS     Boston Red Sox  325000.0  163  81   81     10897560.0   \n",
       "2    1985    CAL  California Angels  550000.0  162  90   72     14427894.0   \n",
       "3    1985    CHA  Chicago White Sox  195000.0  163  85   77      9846178.0   \n",
       "4    1985    CLE  Cleveland Indians  125000.0  162  60  102      6551666.0   \n",
       "\n",
       "   win_perc  \n",
       "0        51  \n",
       "1        49  \n",
       "2        55  \n",
       "3        52  \n",
       "4        37  "
      ]
     },
     "execution_count": 164,
     "metadata": {},
     "output_type": "execute_result"
    }
   ],
   "source": [
    "query = \"select * from spend_perc;\"\n",
    "\n",
    "result = pandas.read_sql(query, conn)\n",
    "result.head()\n"
   ]
  },
  {
   "cell_type": "code",
   "execution_count": 165,
   "metadata": {},
   "outputs": [
    {
     "data": {
      "text/html": [
       "<div>\n",
       "<style scoped>\n",
       "    .dataframe tbody tr th:only-of-type {\n",
       "        vertical-align: middle;\n",
       "    }\n",
       "\n",
       "    .dataframe tbody tr th {\n",
       "        vertical-align: top;\n",
       "    }\n",
       "\n",
       "    .dataframe thead th {\n",
       "        text-align: right;\n",
       "    }\n",
       "</style>\n",
       "<table border=\"1\" class=\"dataframe\">\n",
       "  <thead>\n",
       "    <tr style=\"text-align: right;\">\n",
       "      <th></th>\n",
       "      <th>teamID</th>\n",
       "      <th>MAX(win_perc/total_payroll)</th>\n",
       "    </tr>\n",
       "  </thead>\n",
       "  <tbody>\n",
       "    <tr>\n",
       "      <th>0</th>\n",
       "      <td>TEX</td>\n",
       "      <td>0.000052</td>\n",
       "    </tr>\n",
       "  </tbody>\n",
       "</table>\n",
       "</div>"
      ],
      "text/plain": [
       "  teamID  MAX(win_perc/total_payroll)\n",
       "0    TEX                     0.000052"
      ]
     },
     "execution_count": 165,
     "metadata": {},
     "output_type": "execute_result"
    }
   ],
   "source": [
    "query = \"SELECT teamID, MAX(win_perc/total_payroll) from spend_perc ;\"\n",
    "\n",
    "result = pandas.read_sql(query, conn)\n",
    "result.head()\n"
   ]
  },
  {
   "cell_type": "code",
   "execution_count": 166,
   "metadata": {},
   "outputs": [
    {
     "data": {
      "text/plain": [
       "<matplotlib.collections.PathCollection at 0x7f65486f5c50>"
      ]
     },
     "execution_count": 166,
     "metadata": {},
     "output_type": "execute_result"
    },
    {
     "data": {
      "image/png": "[encoded data removed]",
      "text/plain": [
       "<matplotlib.figure.Figure at 0x7f654aa658d0>"
      ]
     },
     "metadata": {},
     "output_type": "display_data"
    }
   ],
   "source": [
    "#Problem 3\n",
    "#Write code to produce plots that illustrate the team's total spending (salaries) conditioned on time (from 1990-2014), \n",
    "#specifically for teamID='OAK'.\n",
    "\n",
    "%matplotlib inline\n",
    "import matplotlib.pyplot as plt\n",
    "\n",
    "\n",
    "query = \"SELECT total_payroll,yearID FROM spend_perc WHERE teamID='OAK' AND yearID>=1990 AND yearID<=2014;\"\n",
    "\n",
    "result = pandas.read_sql(query, conn)\n",
    "result.head()\n",
    "\n",
    "plt.title('OAK\\'s Total Spending (Salaries) From 1990 to 2014')\n",
    "plt.ylabel('Total Spending (Salaries)')\n",
    "plt.xlabel('Year')\n",
    "plt.scatter(result[\"yearID\"],result[\"total_payroll\"])\n",
    "\n",
    "\n",
    "\n"
   ]
  },
  {
   "cell_type": "markdown",
   "metadata": {
    "collapsed": true
   },
   "source": [
    "## Problem 1 \n",
    "\n",
    "Using SQL, compute the result containing the total payroll and winning percentage (number of wins / number of games * 100) for each team (that is, for each teamID and yearID combination). \n",
    "\n",
    "Hint: Be sure to perform a groupby on the fields teamID and yearID\n",
    "\n"
   ]
  },
  {
   "cell_type": "markdown",
   "metadata": {},
   "source": [
    "## Problem 2\n",
    "\n",
    "Write code to printout the teamID that had the highest WinningPercentage over total sepending (salaries). "
   ]
  },
  {
   "cell_type": "markdown",
   "metadata": {},
   "source": [
    "## Problem 3\n",
    "\n",
    "Write code to produce plots that illustrate the team's total spending (salaries) conditioned on time (from 1990-2014), specifically for teamID='OAK'."
   ]
  }
 ],
 "metadata": {
  "kernelspec": {
   "display_name": "Python 2",
   "language": "python",
   "name": "python2"
  },
  "language_info": {
   "codemirror_mode": {
    "name": "ipython",
    "version": 2
   },
   "file_extension": ".py",
   "mimetype": "text/x-python",
   "name": "python",
   "nbconvert_exporter": "python",
   "pygments_lexer": "ipython2",
   "version": "2.7.12"
  }
 },
 "nbformat": 4,
 "nbformat_minor": 2
}
